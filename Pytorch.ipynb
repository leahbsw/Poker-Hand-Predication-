{
 "cells": [
  {
   "cell_type": "code",
   "execution_count": 103,
   "id": "92a8039b-d945-4a21-85c8-3e9345cd0a40",
   "metadata": {},
   "outputs": [],
   "source": [
    "import torch\n",
    "import os\n",
    "import numpy as np\n",
    "import pandas as pd\n",
    "import matplotlib.pyplot as plt\n",
    "\n",
    "from show_hands import show_hands"
   ]
  },
  {
   "cell_type": "code",
   "execution_count": 104,
   "id": "d4ffc963-4f0a-4c1c-873f-128e2c33300f",
   "metadata": {},
   "outputs": [],
   "source": [
    "current_directory = os.getcwd()\n",
    "data_directory = os.path.join(current_directory, 'Poker data')\n",
    "train_data_file = os.path.join(data_directory, 'poker-hand-training-true.csv')\n",
    "train_data = pd.read_csv(train_data_file)\n",
    "\n",
    "test_data_file = os.path.join(data_directory, 'poker-hand-testing.csv')\n",
    "test_data = pd.read_csv(test_data_file)"
   ]
  },
  {
   "cell_type": "code",
   "execution_count": 123,
   "id": "08c3bc34-8d85-45e3-8442-0dea6b4d4276",
   "metadata": {},
   "outputs": [
    {
     "name": "stdout",
     "output_type": "stream",
     "text": [
      "['C1', 'C2', 'C3', 'C4', 'C5', 'S1_1', 'S1_2', 'S1_3', 'S1_4', 'S2_1', 'S2_2', 'S2_3', 'S2_4', 'S3_1', 'S3_2', 'S3_3', 'S3_4', 'S4_1', 'S4_2', 'S4_3', 'S4_4', 'S5_1', 'S5_2', 'S5_3', 'S5_4']\n"
     ]
    }
   ],
   "source": [
    "train_dummy_data = pd.get_dummies(train_data, columns=train_data.columns[0:10:2]).head(8000)\n",
    "test_dummy_data = pd.get_dummies(test_data, columns=test_data.columns[0:10:2]).head(2000)\n",
    "labels = list(train_dummy_data.columns)\n",
    "labels.pop(5)\n",
    "print(labels)"
   ]
  },
  {
   "cell_type": "code",
   "execution_count": 124,
   "id": "70c72634-d728-45ba-ba23-1006eb6576fe",
   "metadata": {},
   "outputs": [],
   "source": [
    "X_train = train_dummy_data[labels].to_numpy()\n",
    "y_train = train_dummy_data['Class'].to_numpy()\n",
    "X_test = train_dummy_data[labels].to_numpy()\n",
    "y_test = train_dummy_data['Class'].to_numpy()"
   ]
  },
  {
   "cell_type": "code",
   "execution_count": 125,
   "id": "c6c48de3-88f0-449e-8c9e-e5fb66fc35b9",
   "metadata": {},
   "outputs": [
    {
     "data": {
      "text/plain": [
       "8000"
      ]
     },
     "execution_count": 125,
     "metadata": {},
     "output_type": "execute_result"
    }
   ],
   "source": [
    "len(X_train)"
   ]
  },
  {
   "cell_type": "code",
   "execution_count": 126,
   "id": "17db89a4-52c4-497a-9d20-f46beab5e1a0",
   "metadata": {},
   "outputs": [
    {
     "data": {
      "text/plain": [
       "array([[10, 11, 13, ...,  0,  0,  0],\n",
       "       [11, 13, 10, ...,  1,  0,  0],\n",
       "       [12, 11, 13, ...,  0,  1,  0],\n",
       "       ...,\n",
       "       [ 1,  6,  4, ...,  1,  0,  0],\n",
       "       [ 6, 12, 10, ...,  0,  1,  0],\n",
       "       [ 2,  2, 13, ...,  0,  0,  0]], dtype=int64)"
      ]
     },
     "execution_count": 126,
     "metadata": {},
     "output_type": "execute_result"
    }
   ],
   "source": [
    "X_train"
   ]
  },
  {
   "cell_type": "code",
   "execution_count": 127,
   "id": "b39ef8a4-995a-46be-8552-ae0862ce2c82",
   "metadata": {},
   "outputs": [
    {
     "data": {
      "text/plain": [
       "array([9, 9, 9, ..., 3, 1, 1], dtype=int64)"
      ]
     },
     "execution_count": 127,
     "metadata": {},
     "output_type": "execute_result"
    }
   ],
   "source": [
    "y_train"
   ]
  },
  {
   "cell_type": "code",
   "execution_count": 128,
   "id": "3b14ffde-7a4e-48c6-b5c7-2bd4c7736bc6",
   "metadata": {},
   "outputs": [],
   "source": [
    "def dataloading (X, y):\n",
    "    arr = []\n",
    "    for i in range(len(X)):\n",
    "        features = torch.Tensor(X[i])\n",
    "        label = float(y[i])\n",
    "        combined = (features,label)\n",
    "        arr.append(combined)\n",
    "    return arr\n",
    "train = []\n",
    "test =[]\n",
    "train = dataloading(X_train,y_train)\n",
    "test = dataloading(X_test,y_test)"
   ]
  },
  {
   "cell_type": "code",
   "execution_count": 129,
   "id": "42962069-7cdb-44f2-a0ae-f3ee357bb1c8",
   "metadata": {},
   "outputs": [],
   "source": [
    "import torch.nn as nn\n",
    "model = nn.Sequential(nn.Linear(25,20),nn.ReLU(),nn.Linear(20,15),nn.Linear(15,10),nn.ReLU())\n",
    "loss = nn.CrossEntropyLoss()\n",
    "stepsize = 0.1 \n",
    "optimizermlp = torch.optim.SGD(model.parameters(), lr=stepsize)"
   ]
  },
  {
   "cell_type": "code",
   "execution_count": 130,
   "id": "936a9a37-f002-44c6-adf2-d796a46ed995",
   "metadata": {},
   "outputs": [],
   "source": [
    "batchsize = 20\n",
    "from torch.utils import data\n",
    "train_loader = data.DataLoader(train, batch_size=batchsize, shuffle=True)\n",
    "test_loader = data.DataLoader(test,batch_size=batchsize, shuffle=True)"
   ]
  },
  {
   "cell_type": "code",
   "execution_count": 131,
   "id": "360a835a-b021-4ed0-a29a-1951aa2a56fe",
   "metadata": {},
   "outputs": [],
   "source": [
    "def accuracy(y_hat, y):\n",
    "    \"\"\"Compute the number of correct predictions.\"\"\"\n",
    "    if len(y_hat.shape) > 1 and y_hat.shape[1] > 1:\n",
    "        y_hat = y_hat.argmax(axis=1)\n",
    "    cmp = y_hat.type(y.dtype) == y\n",
    "    return float(cmp.type(y.dtype).sum())"
   ]
  },
  {
   "cell_type": "code",
   "execution_count": 132,
   "id": "643fe6d9-db9a-4c0a-993f-63713c8284f5",
   "metadata": {},
   "outputs": [],
   "source": [
    "def evaluate_accuracy(net, data_iter):  #@save\n",
    "    \"\"\"Compute the accuracy for a model on a dataset.\"\"\"\n",
    "    net.eval()  # Set the model to evaluation mode\n",
    "    accuracy_metric = 0\n",
    "    y_len = 0\n",
    "    with torch.no_grad():\n",
    "        for X, y in data_iter:\n",
    "            accuracy_metric = accuracy_metric + accuracy(net(X),y)\n",
    "            y_len = y_len + y.numel()\n",
    "    return accuracy_metric/ y_len"
   ]
  },
  {
   "cell_type": "code",
   "execution_count": 133,
   "id": "45936262-6b0a-4779-9e52-ddd951e53b99",
   "metadata": {},
   "outputs": [],
   "source": [
    "def train_epoch(net, train_iter, loss, updater):  #@save\n",
    "    \"\"\"The training loop defined in Chapter 3.\"\"\"\n",
    "    # Set the model to training mode\n",
    "    net.train()\n",
    "    # Sum of training loss, sum of training accuracy, no. of examples\n",
    "    loss_val = 0\n",
    "    acc_val = 0\n",
    "    y_len = 0\n",
    "    for X, y in train_iter:\n",
    "        # Compute gradients and update parameters\n",
    "        y_hat = net(X) \n",
    "        l = loss(y_hat, y.long())\n",
    "        # Using PyTorch in-built optimizer & loss criterion\n",
    "        updater.zero_grad()\n",
    "        l.backward()\n",
    "        updater.step()\n",
    "        loss_val = loss_val + float(l)*len(y)\n",
    "        acc_val  = acc_val  + accuracy(y_hat, y)\n",
    "        y_len = y_len + y.numel()\n",
    "    # Return training loss and training accuracy\n",
    "    return loss_val/y_len, acc_val/y_len"
   ]
  },
  {
   "cell_type": "code",
   "execution_count": 134,
   "id": "45f35209-7781-477c-9a1a-dbc664a125d5",
   "metadata": {},
   "outputs": [],
   "source": [
    "def train_network(net, train_iter, test_iter, loss, num_epochs, optimizer):  #@save\n",
    "#    animator = Animator(xlabel='epoch', xlim=[1, num_epochs], ylim=[0.3, 0.9],\n",
    "#                        legend=['train loss', 'train acc', 'test acc'])\n",
    "    loss_vals = []\n",
    "    acc_train = []\n",
    "    acc_test = []\n",
    "    for epoch in range(num_epochs):\n",
    "        train_metrics = train_epoch(net, train_loader, loss, optimizer)\n",
    "        test_acc = evaluate_accuracy(net, test_loader)\n",
    "        loss_vals.append(train_metrics[0])\n",
    "        acc_train.append(train_metrics[1])\n",
    "        acc_test.append(test_acc)\n",
    "        if (epoch % 5) == 0 and epoch > 0:\n",
    "            print(\"Loss function value at epoch \"+str(epoch)+\": \"+str(train_metrics[0]))\n",
    "    return loss_vals, acc_train, acc_test"
   ]
  },
  {
   "cell_type": "code",
   "execution_count": 135,
   "id": "24b87922-b3c2-4fc6-94ea-72762dd09276",
   "metadata": {},
   "outputs": [
    {
     "name": "stdout",
     "output_type": "stream",
     "text": [
      "Loss function value at epoch 5: 1.0054971262812615\n",
      "Loss function value at epoch 10: 0.9987490327656269\n",
      "Loss function value at epoch 15: 0.9755916541814804\n"
     ]
    }
   ],
   "source": [
    "num_epochs = 20\n",
    "loss_vals, acc_train, acc_test = train_network(model, train_loader, test_loader, loss, num_epochs, optimizermlp)"
   ]
  },
  {
   "cell_type": "code",
   "execution_count": 136,
   "id": "5e7dfe88-59d0-4565-a48a-b8715cc21662",
   "metadata": {},
   "outputs": [
    {
     "data": {
      "text/plain": [
       "[1.364544491171837,\n",
       " 1.047050975561142,\n",
       " 1.0154989477992058,\n",
       " 1.0038165086507798,\n",
       " 1.0056183417141438,\n",
       " 1.0054971262812615,\n",
       " 1.0021622391045093,\n",
       " 1.000949172526598,\n",
       " 0.9975418737530708,\n",
       " 0.998717340528965,\n",
       " 0.9987490327656269,\n",
       " 0.9867799539864063,\n",
       " 0.9783566652238369,\n",
       " 0.9778149718046188,\n",
       " 0.9758160553872586,\n",
       " 0.9755916541814804,\n",
       " 0.9720712576806545,\n",
       " 0.9703095234930516,\n",
       " 0.9738147775828838,\n",
       " 0.9706979332864285]"
      ]
     },
     "execution_count": 136,
     "metadata": {},
     "output_type": "execute_result"
    }
   ],
   "source": [
    "loss_vals"
   ]
  },
  {
   "cell_type": "code",
   "execution_count": 162,
   "id": "f005b8f5-8f52-42f1-a0d3-0b5947201de6",
   "metadata": {},
   "outputs": [
    {
     "data": {
      "text/plain": [
       "(0.2, 1.2)"
      ]
     },
     "execution_count": 162,
     "metadata": {},
     "output_type": "execute_result"
    },
    {
     "data": {
      "image/png": "[encoded data removed]",
      "text/plain": [
       "<Figure size 432x288 with 1 Axes>"
      ]
     },
     "metadata": {
      "needs_background": "light"
     },
     "output_type": "display_data"
    }
   ],
   "source": [
    "plt.plot(loss_vals)\n",
    "plt.xlabel('epoch')\n",
    "plt.ylabel('loss value')\n",
    "plt.ylim([0.2, 1.2])"
   ]
  },
  {
   "cell_type": "code",
   "execution_count": 137,
   "id": "4af6f6a2-6077-41fd-9d63-79b783106e55",
   "metadata": {},
   "outputs": [],
   "source": [
    "def plot_loss_accuracy(loss_vals, acc_train, acc_test):\n",
    "    fmts=('-', 'r--', 'g-.')\n",
    "    plt.plot(range(1,len(loss_vals)+1),loss_vals,fmts[0])\n",
    "    plt.plot(range(1,len(loss_vals)+1),acc_train,fmts[1])\n",
    "    plt.plot(range(1,len(loss_vals)+1),acc_test,fmts[2])\n",
    "    plt.legend(['train loss','train acc','test acc'])\n",
    "    return"
   ]
  },
  {
   "cell_type": "code",
   "execution_count": 138,
   "id": "0bc0b47e-3786-4b37-a051-3bb95a258d62",
   "metadata": {},
   "outputs": [
    {
     "data": {
      "image/png": "[encoded data removed]",
      "text/plain": [
       "<Figure size 432x288 with 1 Axes>"
      ]
     },
     "metadata": {
      "needs_background": "light"
     },
     "output_type": "display_data"
    }
   ],
   "source": [
    "plot_loss_accuracy(loss_vals, acc_train, acc_test)"
   ]
  },
  {
   "cell_type": "code",
   "execution_count": 139,
   "id": "971dd1eb-3a5d-42f9-871f-0aeb6080ce6d",
   "metadata": {},
   "outputs": [
    {
     "name": "stdout",
     "output_type": "stream",
     "text": [
      "Accuracy on training set: 0.562000\n",
      "Accuracy on test set: 0.562000\n"
     ]
    }
   ],
   "source": [
    "print(\"Accuracy on training set: %f\"\n",
    "      % (evaluate_accuracy(model, train_loader)))\n",
    "print(\"Accuracy on test set: %f\"\n",
    "      % (evaluate_accuracy(model, test_loader)))"
   ]
  },
  {
   "cell_type": "code",
   "execution_count": 147,
   "id": "008fccc5-739a-468b-992b-5ecf4dccef83",
   "metadata": {},
   "outputs": [],
   "source": [
    "import torch.nn as nn\n",
    "model = nn.Sequential(nn.Linear(25,15),nn.ReLU(),nn.Linear(15,10),nn.ReLU())\n",
    "loss = nn.CrossEntropyLoss()\n",
    "stepsize = 0.1 \n",
    "optimizermlp = torch.optim.SGD(model.parameters(), lr=stepsize)"
   ]
  },
  {
   "cell_type": "code",
   "execution_count": 148,
   "id": "94d95458-f1aa-4168-b5bd-fd663d45ef57",
   "metadata": {},
   "outputs": [],
   "source": [
    "batchsize = 20\n",
    "from torch.utils import data\n",
    "train_loader = data.DataLoader(train, batch_size=batchsize, shuffle=True)\n",
    "test_loader = data.DataLoader(test,batch_size=batchsize, shuffle=True)"
   ]
  },
  {
   "cell_type": "code",
   "execution_count": 149,
   "id": "e51177a6-20f5-49a9-9afc-27a5582bd3ad",
   "metadata": {},
   "outputs": [],
   "source": [
    "def accuracy(y_hat, y):\n",
    "    \"\"\"Compute the number of correct predictions.\"\"\"\n",
    "    if len(y_hat.shape) > 1 and y_hat.shape[1] > 1:\n",
    "        y_hat = y_hat.argmax(axis=1)\n",
    "    cmp = y_hat.type(y.dtype) == y\n",
    "    return float(cmp.type(y.dtype).sum())"
   ]
  },
  {
   "cell_type": "code",
   "execution_count": 150,
   "id": "ece689bb-4ca2-4d54-9e90-d6a755772ca1",
   "metadata": {},
   "outputs": [],
   "source": [
    "def evaluate_accuracy(net, data_iter):  #@save\n",
    "    \"\"\"Compute the accuracy for a model on a dataset.\"\"\"\n",
    "    net.eval()  # Set the model to evaluation mode\n",
    "    accuracy_metric = 0\n",
    "    y_len = 0\n",
    "    with torch.no_grad():\n",
    "        for X, y in data_iter:\n",
    "            accuracy_metric = accuracy_metric + accuracy(net(X),y)\n",
    "            y_len = y_len + y.numel()\n",
    "    return accuracy_metric/ y_len"
   ]
  },
  {
   "cell_type": "code",
   "execution_count": 151,
   "id": "5460971e-f953-412f-834b-e7b71dcd9c20",
   "metadata": {},
   "outputs": [],
   "source": [
    "def train_epoch(net, train_iter, loss, updater):  #@save\n",
    "    \"\"\"The training loop defined in Chapter 3.\"\"\"\n",
    "    # Set the model to training mode\n",
    "    net.train()\n",
    "    # Sum of training loss, sum of training accuracy, no. of examples\n",
    "    loss_val = 0\n",
    "    acc_val = 0\n",
    "    y_len = 0\n",
    "    for X, y in train_iter:\n",
    "        # Compute gradients and update parameters\n",
    "        y_hat = net(X) \n",
    "        l = loss(y_hat, y.long())\n",
    "        # Using PyTorch in-built optimizer & loss criterion\n",
    "        updater.zero_grad()\n",
    "        l.backward()\n",
    "        updater.step()\n",
    "        loss_val = loss_val + float(l)*len(y)\n",
    "        acc_val  = acc_val  + accuracy(y_hat, y)\n",
    "        y_len = y_len + y.numel()\n",
    "    # Return training loss and training accuracy\n",
    "    return loss_val/y_len, acc_val/y_len"
   ]
  },
  {
   "cell_type": "code",
   "execution_count": 152,
   "id": "4d0c7481-8141-4175-a817-7126e6c38421",
   "metadata": {},
   "outputs": [],
   "source": [
    "def train_network(net, train_iter, test_iter, loss, num_epochs, optimizer):  #@save\n",
    "#    animator = Animator(xlabel='epoch', xlim=[1, num_epochs], ylim=[0.3, 0.9],\n",
    "#                        legend=['train loss', 'train acc', 'test acc'])\n",
    "    loss_vals = []\n",
    "    acc_train = []\n",
    "    acc_test = []\n",
    "    for epoch in range(num_epochs):\n",
    "        train_metrics = train_epoch(net, train_loader, loss, optimizer)\n",
    "        test_acc = evaluate_accuracy(net, test_loader)\n",
    "        loss_vals.append(train_metrics[0])\n",
    "        acc_train.append(train_metrics[1])\n",
    "        acc_test.append(test_acc)\n",
    "        if (epoch % 5) == 0 and epoch > 0:\n",
    "            print(\"Loss function value at epoch \"+str(epoch)+\": \"+str(train_metrics[0]))\n",
    "    return loss_vals, acc_train, acc_test"
   ]
  },
  {
   "cell_type": "code",
   "execution_count": 153,
   "id": "554d3d46-6ac9-46f5-afad-aedd60af47fc",
   "metadata": {},
   "outputs": [
    {
     "name": "stdout",
     "output_type": "stream",
     "text": [
      "Loss function value at epoch 5: 1.0062876597046853\n",
      "Loss function value at epoch 10: 0.9960532633960247\n",
      "Loss function value at epoch 15: 0.9893221917748451\n"
     ]
    }
   ],
   "source": [
    "num_epochs = 20\n",
    "loss_vals, acc_train, acc_test = train_network(model, train_loader, test_loader, loss, num_epochs, optimizermlp)"
   ]
  },
  {
   "cell_type": "code",
   "execution_count": 154,
   "id": "d83aac4c-b8d9-4b26-9422-7930b61e0c7b",
   "metadata": {},
   "outputs": [
    {
     "data": {
      "text/plain": [
       "[1.1038834883272648,\n",
       " 1.0259692671895027,\n",
       " 1.020166127383709,\n",
       " 1.0134897743165494,\n",
       " 1.008330789655447,\n",
       " 1.0062876597046853,\n",
       " 1.0013395214080811,\n",
       " 0.9995454286038875,\n",
       " 0.998934099972248,\n",
       " 0.9904153472185135,\n",
       " 0.9960532633960247,\n",
       " 0.9920701287686825,\n",
       " 0.9915628871321678,\n",
       " 0.9920554822683334,\n",
       " 0.9917292048037052,\n",
       " 0.9893221917748451,\n",
       " 0.989605952501297,\n",
       " 0.9866282115876674,\n",
       " 0.9879843175411225,\n",
       " 0.9870276573300362]"
      ]
     },
     "execution_count": 154,
     "metadata": {},
     "output_type": "execute_result"
    }
   ],
   "source": [
    "loss_vals"
   ]
  },
  {
   "cell_type": "code",
   "execution_count": 161,
   "id": "07be2e7e-7c20-43de-a265-fe643d448344",
   "metadata": {},
   "outputs": [
    {
     "data": {
      "text/plain": [
       "(0.2, 1.2)"
      ]
     },
     "execution_count": 161,
     "metadata": {},
     "output_type": "execute_result"
    },
    {
     "data": {
      "image/png": "[encoded data removed]",
      "text/plain": [
       "<Figure size 432x288 with 1 Axes>"
      ]
     },
     "metadata": {
      "needs_background": "light"
     },
     "output_type": "display_data"
    }
   ],
   "source": [
    "plt.plot(loss_vals)\n",
    "plt.xlabel('epoch')\n",
    "plt.ylabel('loss value')\n",
    "plt.ylim([0.2, 1.2])"
   ]
  },
  {
   "cell_type": "code",
   "execution_count": 156,
   "id": "603f22fc-45b2-4b5d-8a40-9e8767b050cd",
   "metadata": {},
   "outputs": [],
   "source": [
    "def plot_loss_accuracy(loss_vals, acc_train, acc_test):\n",
    "    fmts=('-', 'r--', 'g-.')\n",
    "    plt.plot(range(1,len(loss_vals)+1),loss_vals,fmts[0])\n",
    "    plt.plot(range(1,len(loss_vals)+1),acc_train,fmts[1])\n",
    "    plt.plot(range(1,len(loss_vals)+1),acc_test,fmts[2])\n",
    "    plt.legend(['train loss','train acc','test acc'])\n",
    "    return"
   ]
  },
  {
   "cell_type": "code",
   "execution_count": 158,
   "id": "074ab9aa-c0fa-4d12-bf15-b29a73e39051",
   "metadata": {},
   "outputs": [
    {
     "data": {
      "image/png": "[encoded data removed]",
      "text/plain": [
       "<Figure size 432x288 with 1 Axes>"
      ]
     },
     "metadata": {
      "needs_background": "light"
     },
     "output_type": "display_data"
    }
   ],
   "source": [
    "plot_loss_accuracy(loss_vals, acc_train, acc_test)"
   ]
  },
  {
   "cell_type": "code",
   "execution_count": 157,
   "id": "9024d489-99da-4260-ac50-0088d5954d44",
   "metadata": {},
   "outputs": [
    {
     "name": "stdout",
     "output_type": "stream",
     "text": [
      "Accuracy on training set: 0.518750\n",
      "Accuracy on test set: 0.518750\n"
     ]
    }
   ],
   "source": [
    "print(\"Accuracy on training set: %f\"\n",
    "      % (evaluate_accuracy(model, train_loader)))\n",
    "print(\"Accuracy on test set: %f\"\n",
    "      % (evaluate_accuracy(model, test_loader)))"
   ]
  },
  {
   "cell_type": "code",
   "execution_count": null,
   "id": "5793d8bc-8d4a-43a6-833a-67c8818ef7e7",
   "metadata": {},
   "outputs": [],
   "source": []
  }
 ],
 "metadata": {
  "kernelspec": {
   "display_name": "Python 3 (ipykernel)",
   "language": "python",
   "name": "python3"
  },
  "language_info": {
   "codemirror_mode": {
    "name": "ipython",
    "version": 3
   },
   "file_extension": ".py",
   "mimetype": "text/x-python",
   "name": "python",
   "nbconvert_exporter": "python",
   "pygments_lexer": "ipython3",
   "version": "3.7.3"
  }
 },
 "nbformat": 4,
 "nbformat_minor": 5
}
